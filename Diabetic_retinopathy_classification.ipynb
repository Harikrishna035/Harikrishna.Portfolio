{
  "cells": [
    {
      "cell_type": "markdown",
      "metadata": {
        "id": "view-in-github",
        "colab_type": "text"
      },
      "source": [
        "<a href=\"https://colab.research.google.com/github/Harikrishna035/Harikrishna.github.io/blob/main/Diabetic_retinopathy_classification.ipynb\" target=\"_parent\"><img src=\"https://colab.research.google.com/assets/colab-badge.svg\" alt=\"Open In Colab\"/></a>"
      ]
    },
    {
      "cell_type": "code",
      "execution_count": null,
      "metadata": {
        "colab": {
          "base_uri": "https://localhost:8080/",
          "height": 90
        },
        "id": "qtmBU1TjPcC6",
        "outputId": "bd9bf2d2-a285-4f28-ba18-7ac7ac2c19a2"
      },
      "outputs": [
        {
          "output_type": "display_data",
          "data": {
            "text/plain": [
              "<IPython.core.display.HTML object>"
            ],
            "text/html": [
              "\n",
              "     <input type=\"file\" id=\"files-f343d57a-9198-4756-82f0-0d4bd81c3a52\" name=\"files[]\" multiple disabled\n",
              "        style=\"border:none\" />\n",
              "     <output id=\"result-f343d57a-9198-4756-82f0-0d4bd81c3a52\">\n",
              "      Upload widget is only available when the cell has been executed in the\n",
              "      current browser session. Please rerun this cell to enable.\n",
              "      </output>\n",
              "      <script>// Copyright 2017 Google LLC\n",
              "//\n",
              "// Licensed under the Apache License, Version 2.0 (the \"License\");\n",
              "// you may not use this file except in compliance with the License.\n",
              "// You may obtain a copy of the License at\n",
              "//\n",
              "//      http://www.apache.org/licenses/LICENSE-2.0\n",
              "//\n",
              "// Unless required by applicable law or agreed to in writing, software\n",
              "// distributed under the License is distributed on an \"AS IS\" BASIS,\n",
              "// WITHOUT WARRANTIES OR CONDITIONS OF ANY KIND, either express or implied.\n",
              "// See the License for the specific language governing permissions and\n",
              "// limitations under the License.\n",
              "\n",
              "/**\n",
              " * @fileoverview Helpers for google.colab Python module.\n",
              " */\n",
              "(function(scope) {\n",
              "function span(text, styleAttributes = {}) {\n",
              "  const element = document.createElement('span');\n",
              "  element.textContent = text;\n",
              "  for (const key of Object.keys(styleAttributes)) {\n",
              "    element.style[key] = styleAttributes[key];\n",
              "  }\n",
              "  return element;\n",
              "}\n",
              "\n",
              "// Max number of bytes which will be uploaded at a time.\n",
              "const MAX_PAYLOAD_SIZE = 100 * 1024;\n",
              "\n",
              "function _uploadFiles(inputId, outputId) {\n",
              "  const steps = uploadFilesStep(inputId, outputId);\n",
              "  const outputElement = document.getElementById(outputId);\n",
              "  // Cache steps on the outputElement to make it available for the next call\n",
              "  // to uploadFilesContinue from Python.\n",
              "  outputElement.steps = steps;\n",
              "\n",
              "  return _uploadFilesContinue(outputId);\n",
              "}\n",
              "\n",
              "// This is roughly an async generator (not supported in the browser yet),\n",
              "// where there are multiple asynchronous steps and the Python side is going\n",
              "// to poll for completion of each step.\n",
              "// This uses a Promise to block the python side on completion of each step,\n",
              "// then passes the result of the previous step as the input to the next step.\n",
              "function _uploadFilesContinue(outputId) {\n",
              "  const outputElement = document.getElementById(outputId);\n",
              "  const steps = outputElement.steps;\n",
              "\n",
              "  const next = steps.next(outputElement.lastPromiseValue);\n",
              "  return Promise.resolve(next.value.promise).then((value) => {\n",
              "    // Cache the last promise value to make it available to the next\n",
              "    // step of the generator.\n",
              "    outputElement.lastPromiseValue = value;\n",
              "    return next.value.response;\n",
              "  });\n",
              "}\n",
              "\n",
              "/**\n",
              " * Generator function which is called between each async step of the upload\n",
              " * process.\n",
              " * @param {string} inputId Element ID of the input file picker element.\n",
              " * @param {string} outputId Element ID of the output display.\n",
              " * @return {!Iterable<!Object>} Iterable of next steps.\n",
              " */\n",
              "function* uploadFilesStep(inputId, outputId) {\n",
              "  const inputElement = document.getElementById(inputId);\n",
              "  inputElement.disabled = false;\n",
              "\n",
              "  const outputElement = document.getElementById(outputId);\n",
              "  outputElement.innerHTML = '';\n",
              "\n",
              "  const pickedPromise = new Promise((resolve) => {\n",
              "    inputElement.addEventListener('change', (e) => {\n",
              "      resolve(e.target.files);\n",
              "    });\n",
              "  });\n",
              "\n",
              "  const cancel = document.createElement('button');\n",
              "  inputElement.parentElement.appendChild(cancel);\n",
              "  cancel.textContent = 'Cancel upload';\n",
              "  const cancelPromise = new Promise((resolve) => {\n",
              "    cancel.onclick = () => {\n",
              "      resolve(null);\n",
              "    };\n",
              "  });\n",
              "\n",
              "  // Wait for the user to pick the files.\n",
              "  const files = yield {\n",
              "    promise: Promise.race([pickedPromise, cancelPromise]),\n",
              "    response: {\n",
              "      action: 'starting',\n",
              "    }\n",
              "  };\n",
              "\n",
              "  cancel.remove();\n",
              "\n",
              "  // Disable the input element since further picks are not allowed.\n",
              "  inputElement.disabled = true;\n",
              "\n",
              "  if (!files) {\n",
              "    return {\n",
              "      response: {\n",
              "        action: 'complete',\n",
              "      }\n",
              "    };\n",
              "  }\n",
              "\n",
              "  for (const file of files) {\n",
              "    const li = document.createElement('li');\n",
              "    li.append(span(file.name, {fontWeight: 'bold'}));\n",
              "    li.append(span(\n",
              "        `(${file.type || 'n/a'}) - ${file.size} bytes, ` +\n",
              "        `last modified: ${\n",
              "            file.lastModifiedDate ? file.lastModifiedDate.toLocaleDateString() :\n",
              "                                    'n/a'} - `));\n",
              "    const percent = span('0% done');\n",
              "    li.appendChild(percent);\n",
              "\n",
              "    outputElement.appendChild(li);\n",
              "\n",
              "    const fileDataPromise = new Promise((resolve) => {\n",
              "      const reader = new FileReader();\n",
              "      reader.onload = (e) => {\n",
              "        resolve(e.target.result);\n",
              "      };\n",
              "      reader.readAsArrayBuffer(file);\n",
              "    });\n",
              "    // Wait for the data to be ready.\n",
              "    let fileData = yield {\n",
              "      promise: fileDataPromise,\n",
              "      response: {\n",
              "        action: 'continue',\n",
              "      }\n",
              "    };\n",
              "\n",
              "    // Use a chunked sending to avoid message size limits. See b/62115660.\n",
              "    let position = 0;\n",
              "    do {\n",
              "      const length = Math.min(fileData.byteLength - position, MAX_PAYLOAD_SIZE);\n",
              "      const chunk = new Uint8Array(fileData, position, length);\n",
              "      position += length;\n",
              "\n",
              "      const base64 = btoa(String.fromCharCode.apply(null, chunk));\n",
              "      yield {\n",
              "        response: {\n",
              "          action: 'append',\n",
              "          file: file.name,\n",
              "          data: base64,\n",
              "        },\n",
              "      };\n",
              "\n",
              "      let percentDone = fileData.byteLength === 0 ?\n",
              "          100 :\n",
              "          Math.round((position / fileData.byteLength) * 100);\n",
              "      percent.textContent = `${percentDone}% done`;\n",
              "\n",
              "    } while (position < fileData.byteLength);\n",
              "  }\n",
              "\n",
              "  // All done.\n",
              "  yield {\n",
              "    response: {\n",
              "      action: 'complete',\n",
              "    }\n",
              "  };\n",
              "}\n",
              "\n",
              "scope.google = scope.google || {};\n",
              "scope.google.colab = scope.google.colab || {};\n",
              "scope.google.colab._files = {\n",
              "  _uploadFiles,\n",
              "  _uploadFilesContinue,\n",
              "};\n",
              "})(self);\n",
              "</script> "
            ]
          },
          "metadata": {}
        },
        {
          "output_type": "stream",
          "name": "stdout",
          "text": [
            "Saving kaggle.json to kaggle.json\n"
          ]
        },
        {
          "output_type": "execute_result",
          "data": {
            "text/plain": [
              "{'kaggle.json': b'{\"username\":\"byaswanthreddy\",\"key\":\"4b43720c9ee4d524efdee6888ea27b83\"}'}"
            ]
          },
          "metadata": {},
          "execution_count": 1
        }
      ],
      "source": [
        "from google.colab import files\n",
        "files.upload()"
      ]
    },
    {
      "cell_type": "code",
      "execution_count": null,
      "metadata": {
        "id": "Y_Bdx1IBP65P"
      },
      "outputs": [],
      "source": [
        "!pip install -q kaggle"
      ]
    },
    {
      "cell_type": "code",
      "execution_count": null,
      "metadata": {
        "id": "gntLtr0MP8a8"
      },
      "outputs": [],
      "source": [
        "!mkdir ~/.kaggle\n",
        "!cp kaggle.json ~/.kaggle/kaggle.json\n",
        "!chmod 600 ~/.kaggle/kaggle.json"
      ]
    },
    {
      "cell_type": "code",
      "execution_count": null,
      "metadata": {
        "id": "DQJ_G8yEQJ_P",
        "colab": {
          "base_uri": "https://localhost:8080/"
        },
        "outputId": "0db6e73a-de3b-4af3-8997-97460031320c"
      },
      "outputs": [
        {
          "output_type": "stream",
          "name": "stdout",
          "text": [
            "Downloading aptos2019-blindness-detection.zip to /content\n",
            "  0% 2.00M/9.51G [00:01<1:16:10, 2.23MB/s]"
          ]
        }
      ],
      "source": [
        "!kaggle competitions download -c aptos2019-blindness-detection"
      ]
    },
    {
      "cell_type": "code",
      "execution_count": null,
      "metadata": {
        "id": "7cuxPhYJQNtU"
      },
      "outputs": [],
      "source": [
        "!unzip aptos2019-blindness-detection.zip"
      ]
    },
    {
      "cell_type": "code",
      "execution_count": null,
      "metadata": {
        "id": "zqWZIEp-YRQS"
      },
      "outputs": [],
      "source": [
        "!rm aptos2019-blindness-detection.zip"
      ]
    },
    {
      "cell_type": "code",
      "execution_count": null,
      "metadata": {
        "id": "col09v7vY0VY"
      },
      "outputs": [],
      "source": [
        "import pandas as pd\n",
        "import numpy as np\n",
        "import os\n",
        "import cv2\n",
        "import seaborn as sns\n",
        "import matplotlib.pyplot as plt\n",
        "import warnings\n",
        "warnings.filterwarnings('ignore')"
      ]
    },
    {
      "cell_type": "markdown",
      "metadata": {
        "id": "JkDAXKJeZa1g"
      },
      "source": [
        "0 - No DR\n",
        "\n",
        "1 - Mild\n",
        "\n",
        "2 - Moderate\n",
        "\n",
        "3 - Severe\n",
        "\n",
        "4 - Proliferative DR"
      ]
    },
    {
      "cell_type": "code",
      "execution_count": null,
      "metadata": {
        "id": "vWKdTkHlY8hU"
      },
      "outputs": [],
      "source": [
        "df=pd.read_csv('train.csv')\n",
        "df.head()"
      ]
    },
    {
      "cell_type": "code",
      "execution_count": null,
      "metadata": {
        "colab": {
          "base_uri": "https://localhost:8080/"
        },
        "id": "_Bm-8aptZV68",
        "outputId": "cb94ddb6-d7f1-41c6-e075-ae51679f6a87"
      },
      "outputs": [
        {
          "data": {
            "text/plain": [
              "['No DR', 'Mild', 'Moderate', 'Severe', 'Proliferative DR']"
            ]
          },
          "execution_count": 11,
          "metadata": {},
          "output_type": "execute_result"
        }
      ],
      "source": [
        "imgs_path='train_images/'\n",
        "img_size=128\n",
        "class_names=['No DR','Mild','Moderate','Severe','Proliferative DR']\n",
        "class_names"
      ]
    },
    {
      "cell_type": "code",
      "execution_count": null,
      "metadata": {
        "id": "u94M9mBfctiS"
      },
      "outputs": [],
      "source": [
        "labels=df['diagnosis']\n",
        "labels"
      ]
    },
    {
      "cell_type": "code",
      "execution_count": null,
      "metadata": {
        "id": "6ZoPjQu_cxh8"
      },
      "outputs": [],
      "source": [
        "def get_data(data_dir):\n",
        "    img_data = []\n",
        "\n",
        "    for img in sorted(os.listdir(data_dir)):\n",
        "            try:\n",
        "                img_arr = cv2.imread(os.path.join(data_dir, img), cv2.IMREAD_COLOR)\n",
        "                resized_arr = cv2.resize(img_arr, (img_size, img_size)) # Reshaping images to preferred size\n",
        "                img_data.append(resized_arr)\n",
        "                # labels.append(class_num)\n",
        "            except Exception as e:\n",
        "                print(e)\n",
        "    return np.array(img_data)"
      ]
    },
    {
      "cell_type": "code",
      "execution_count": null,
      "metadata": {
        "colab": {
          "base_uri": "https://localhost:8080/"
        },
        "id": "IDxL5H1Vd9WS",
        "outputId": "45a268a5-38e5-4304-e478-2a504939e38c"
      },
      "outputs": [
        {
          "name": "stdout",
          "output_type": "stream",
          "text": [
            "the shape of input image data is (3662, 128, 128, 3), labels shape is (3662,)\n"
          ]
        }
      ],
      "source": [
        "img_data= get_data(imgs_path)\n",
        "labels=np.array(labels)\n",
        "print(f'the shape of input image data is {img_data.shape}, labels shape is {labels.shape}')"
      ]
    },
    {
      "cell_type": "code",
      "execution_count": null,
      "metadata": {
        "id": "1QHoAusAeGjq"
      },
      "outputs": [],
      "source": [
        "import random\n",
        "fig,ax=plt.subplots(5,2)\n",
        "fig.set_size_inches(15,15)\n",
        "for i in range(5):\n",
        "    for j in range (2):\n",
        "        l=random.randint(0,len(img_data))\n",
        "        ax[i,j].imshow(img_data[l])\n",
        "        ax[i,j].set_title('output class is : '+str(class_names[labels[l]]))\n",
        "\n",
        "plt.tight_layout()"
      ]
    },
    {
      "cell_type": "code",
      "execution_count": null,
      "metadata": {
        "id": "yLxo7iXoekJK"
      },
      "outputs": [],
      "source": [
        "from tensorflow.keras.applications.inception_v3 import preprocess_input\n",
        "img_data=preprocess_input(img_data)\n",
        "img_data[0]"
      ]
    },
    {
      "cell_type": "code",
      "execution_count": null,
      "metadata": {
        "colab": {
          "base_uri": "https://localhost:8080/"
        },
        "id": "UR0sjIGVepC2",
        "outputId": "bf42a1c8-fd30-49be-c148-dec9a4f627ba"
      },
      "outputs": [
        {
          "data": {
            "text/plain": [
              "array([0., 0., 1., 0., 0.], dtype=float32)"
            ]
          },
          "execution_count": 17,
          "metadata": {},
          "output_type": "execute_result"
        }
      ],
      "source": [
        "from tensorflow.keras.utils import to_categorical\n",
        "labels=to_categorical(labels)\n",
        "labels[0]"
      ]
    },
    {
      "cell_type": "code",
      "execution_count": null,
      "metadata": {
        "colab": {
          "base_uri": "https://localhost:8080/"
        },
        "id": "jGhpGKx6ergU",
        "outputId": "f4334ea1-bf62-42e7-da8c-4d53feceb8c0"
      },
      "outputs": [
        {
          "name": "stdout",
          "output_type": "stream",
          "text": [
            "X_train size is (2929, 128, 128, 3), X_test shape is (733, 128, 128, 3)\n"
          ]
        }
      ],
      "source": [
        "from sklearn.model_selection import train_test_split\n",
        "X_train,X_test,y_train,y_test=train_test_split(img_data,labels,test_size=0.2,random_state=0,stratify=labels)\n",
        "print(f'X_train size is {X_train.shape}, X_test shape is {X_test.shape}')"
      ]
    },
    {
      "cell_type": "code",
      "execution_count": null,
      "metadata": {
        "id": "Agoulc3GeuT9"
      },
      "outputs": [],
      "source": [
        "from tensorflow.keras.applications.vgg19 import VGG19\n",
        "from tensorflow.keras.layers import *\n",
        "from tensorflow.keras.models import *\n",
        "# x_train=preprocess_input(x_train)\n",
        "inception=VGG19(weights='imagenet',include_top=False,input_shape=(img_size,img_size,3))\n",
        "for layer in inception.layers[:-1]:\n",
        "  layer.trainable=False\n",
        "\n",
        "model=Sequential()\n",
        "model.add(inception)\n",
        "model.add(Flatten())\n",
        "model.add(Dense(len(class_names),activation='softmax'))\n",
        "\n",
        "model.compile(optimizer='adam',loss='categorical_crossentropy',metrics=['accuracy'])\n",
        "\n",
        "model.summary()"
      ]
    },
    {
      "cell_type": "code",
      "execution_count": null,
      "metadata": {
        "id": "Z98tpMwnew77"
      },
      "outputs": [],
      "source": [
        "from tensorflow.keras.callbacks import ReduceLROnPlateau,EarlyStopping\n",
        "learning_rate=ReduceLROnPlateau(monitor='val_accuracy',\n",
        "                                           patience=3,\n",
        "                                           verbose=1,\n",
        "                                           factor=0.5,\n",
        "                                           min_lr=0.0001)\n",
        "cb_early_stop=EarlyStopping(monitor = 'val_loss', patience = 2)\n",
        "callbacks_list=[learning_rate,cb_early_stop]"
      ]
    },
    {
      "cell_type": "code",
      "execution_count": null,
      "metadata": {
        "id": "KANwcwEeezKc"
      },
      "outputs": [],
      "source": [
        "history=model.fit(X_train,y_train,validation_data=(X_test,y_test),epochs=7,batch_size=64,callbacks=[callbacks_list])"
      ]
    },
    {
      "cell_type": "code",
      "execution_count": null,
      "metadata": {
        "id": "PZfETkcDe1q9"
      },
      "outputs": [],
      "source": [
        "plt.figure(figsize=[8,6])\n",
        "plt.plot(history.history['accuracy'],'r',linewidth=2.0)\n",
        "plt.plot(history.history['val_accuracy'],'b',linewidth=2.0)\n",
        "plt.legend(['Training accuracy', 'Validation accuracy'],fontsize=18)\n",
        "plt.xlabel('Epochs ',fontsize=16)\n",
        "plt.ylabel('accuracy',fontsize=16)\n",
        "plt.title('val accuracy',fontsize=16)"
      ]
    },
    {
      "cell_type": "code",
      "execution_count": null,
      "metadata": {
        "id": "eWQKbAPhe4Z4"
      },
      "outputs": [],
      "source": [
        "y_pred=model.predict(X_test)\n",
        "y_pred_classes=np.argmax(y_pred,axis=1)\n",
        "y_test_labels=np.argmax(y_test,axis=1)"
      ]
    },
    {
      "cell_type": "code",
      "execution_count": null,
      "metadata": {
        "id": "HJso8dEZfR40"
      },
      "outputs": [],
      "source": [
        "from sklearn.metrics import confusion_matrix,accuracy_score,precision_recall_fscore_support\n",
        "# print(confusion_matrix(y_test_labels,y_pred_classes))\n",
        "sns.heatmap(confusion_matrix(y_test_labels,y_pred_classes),yticklabels=class_names,xticklabels=class_names,annot=True,fmt='.1f') # calculating the confusion matrix\n",
        "accuracy=accuracy_score(y_test_labels,y_pred_classes)*100 # calculating the accuracy\n",
        "print(f'Accuracy : {accuracy}')\n",
        "prec=precision_recall_fscore_support(y_test_labels,y_pred_classes)\n",
        "print('precision is ',prec[0].mean())\n",
        "print('Recall is ',prec[1].mean())\n",
        "print('f1 score is ',prec[2].mean())\n",
        "print('support is ',int(prec[-1].mean()))\n",
        "\n",
        "plt.show()"
      ]
    },
    {
      "cell_type": "code",
      "execution_count": null,
      "metadata": {
        "id": "Pa0LopD_fxtz"
      },
      "outputs": [],
      "source": [
        "# precision recall curve\n",
        "from sklearn.metrics import precision_recall_curve\n",
        "precision = dict()\n",
        "recall = dict()\n",
        "for i in range(len(class_names)):\n",
        "    precision[i], recall[i], _ = precision_recall_curve(y_test[:, i],\n",
        "                                                        y_pred[:, i])\n",
        "    plt.plot(recall[i], precision[i], lw=2, label='class {}'.format(class_names[i]))\n",
        "\n",
        "plt.xlabel(\"recall\")\n",
        "plt.ylabel(\"precision\")\n",
        "plt.legend(loc=\"best\")\n",
        "plt.title(\"precision vs. recall curve\")\n",
        "plt.show()"
      ]
    },
    {
      "cell_type": "code",
      "execution_count": null,
      "metadata": {
        "id": "ROqBGVZXSpku"
      },
      "outputs": [],
      "source": [
        "from tensorflow.keras.applications.inception_v3 import InceptionV3\n",
        "from tensorflow.keras.layers import *\n",
        "from tensorflow.keras.models import *\n",
        "# x_train=preprocess_input(x_train)\n",
        "inception=InceptionV3(weights='imagenet',include_top=False,input_shape=(img_size,img_size,3))\n",
        "for layer in inception.layers[:-1]:\n",
        "  layer.trainable=False\n",
        "\n",
        "model2=Sequential()\n",
        "model2.add(inception)\n",
        "model2.add(Flatten())\n",
        "model2.add(Dense(len(class_names),activation='softmax'))\n",
        "\n",
        "model2.compile(optimizer='adam',loss='categorical_crossentropy',metrics=['accuracy'])\n",
        "\n",
        "model2.summary()"
      ]
    },
    {
      "cell_type": "code",
      "execution_count": null,
      "metadata": {
        "id": "CcIMEUxZgh8I"
      },
      "outputs": [],
      "source": [
        "history2=model2.fit(X_train,y_train,validation_data=(X_test,y_test),epochs=7,batch_size=64,callbacks=[callbacks_list])"
      ]
    },
    {
      "cell_type": "code",
      "execution_count": null,
      "metadata": {
        "id": "3T0AcMj-gnKs"
      },
      "outputs": [],
      "source": [
        "plt.figure(figsize=[8,6])\n",
        "plt.plot(history2.history['accuracy'],'r',linewidth=2.0)\n",
        "plt.plot(history2.history['val_accuracy'],'b',linewidth=2.0)\n",
        "plt.legend(['Training accuracy', 'Validation accuracy'],fontsize=18)\n",
        "plt.xlabel('Epochs ',fontsize=16)\n",
        "plt.ylabel('accuracy',fontsize=16)\n",
        "plt.title('val accuracy',fontsize=16)"
      ]
    },
    {
      "cell_type": "code",
      "execution_count": null,
      "metadata": {
        "id": "aJ2HeWLEg1h7"
      },
      "outputs": [],
      "source": [
        "y_pred2=model.predict(X_test)\n",
        "y_pred_classes2=np.argmax(y_pred2,axis=1)\n",
        "y_test_labels2=np.argmax(y_test,axis=1)"
      ]
    },
    {
      "cell_type": "code",
      "execution_count": null,
      "metadata": {
        "id": "IGXFDkl3g5WL"
      },
      "outputs": [],
      "source": [
        "from sklearn.metrics import confusion_matrix,accuracy_score,precision_recall_fscore_support\n",
        "# print(confusion_matrix(y_test_labels,y_pred_classes))\n",
        "sns.heatmap(confusion_matrix(y_test_labels2,y_pred_classes2),yticklabels=class_names,xticklabels=class_names,annot=True,fmt='.1f') # calculating the confusion matrix\n",
        "accuracy2=accuracy_score(y_test_labels2,y_pred_classes2)*100 # calculating the accuracy\n",
        "print(f'Accuracy : {accuracy2}')\n",
        "prec=precision_recall_fscore_support(y_test_labels2,y_pred_classes2)\n",
        "print('precision is ',prec[0].mean())\n",
        "print('Recall is ',prec[1].mean())\n",
        "print('f1 score is ',prec[2].mean())\n",
        "print('support is ',int(prec[-1].mean()))"
      ]
    },
    {
      "cell_type": "code",
      "execution_count": null,
      "metadata": {
        "id": "XOIHCI-doJx5"
      },
      "outputs": [],
      "source": [
        "# precision recall curve\n",
        "from sklearn.metrics import precision_recall_curve\n",
        "precision = dict()\n",
        "recall = dict()\n",
        "for i in range(len(class_names)):\n",
        "    precision[i], recall[i], _ = precision_recall_curve(y_test[:, i],\n",
        "                                                        y_pred2[:, i])\n",
        "    plt.plot(recall[i], precision[i], lw=2, label='class {}'.format(class_names[i]))\n",
        "\n",
        "plt.xlabel(\"recall\")\n",
        "plt.ylabel(\"precision\")\n",
        "plt.legend(loc=\"best\")\n",
        "plt.title(\"precision vs. recall curve\")\n",
        "plt.show()"
      ]
    },
    {
      "cell_type": "code",
      "execution_count": null,
      "metadata": {
        "id": "EKgFoQX_odIy"
      },
      "outputs": [],
      "source": [
        "results=pd.DataFrame(data=[[accuracy,accuracy2]],columns=['VGG19','InceptionV3'])\n",
        "# results.head()\n",
        "sns.barplot(data=results)\n",
        "plt.title('comparision of model accuracies')\n",
        "plt.xlabel('model')\n",
        "plt.ylim([0,100])\n",
        "plt.ylabel('accuracy')"
      ]
    },
    {
      "cell_type": "code",
      "execution_count": null,
      "metadata": {
        "id": "gvIdwwTxnlkc"
      },
      "outputs": [],
      "source": [
        "files.upload() # upload image for test"
      ]
    },
    {
      "cell_type": "code",
      "execution_count": null,
      "metadata": {
        "id": "EB0fJfM5hDzu"
      },
      "outputs": [],
      "source": [
        "image_name='/content/test_images/00836aaacf06.png'   # enter image name to test\n",
        "\n",
        "x1=[]\n",
        "img_1 = cv2.imread(image_name, cv2.IMREAD_COLOR)\n",
        "resized_arr_1 = cv2.resize(img_1, (img_size, img_size)) # Reshaping images to preferred size\n",
        "plt.imshow(resized_arr_1)\n",
        "x1.append([resized_arr_1])\n",
        "x1=np.array(x1)\n",
        "x1 = preprocess_input(x1)\n",
        "x1 = x1.reshape(-1, img_size, img_size, 3)\n",
        "x1.shape"
      ]
    },
    {
      "cell_type": "code",
      "execution_count": null,
      "metadata": {
        "id": "8kOOeKx6jfbr"
      },
      "outputs": [],
      "source": [
        "pred=model.predict(x1) # for predicting class\n",
        "labels_pred=np.argmax(pred,axis=1)\n",
        "labels=class_names[labels_pred[0]]\n",
        "pred_results=pd.DataFrame(data=pred,columns=class_names)\n",
        "fig=plt.figure(figsize=(10,8))\n",
        "sns.set_theme(style=\"darkgrid\")\n",
        "ax=sns.barplot(data=pred_results)\n",
        "ax.set_xticklabels(class_names,rotation=90)\n",
        "ax.set_xlabel('Class')\n",
        "ax.set_ylabel('Accuracy')\n",
        "ax.set_title('Predicting class name ')\n",
        "plt.show()"
      ]
    }
  ],
  "metadata": {
    "accelerator": "GPU",
    "colab": {
      "provenance": [],
      "include_colab_link": true
    },
    "kernelspec": {
      "display_name": "Python 3",
      "name": "python3"
    },
    "language_info": {
      "name": "python"
    }
  },
  "nbformat": 4,
  "nbformat_minor": 0
}